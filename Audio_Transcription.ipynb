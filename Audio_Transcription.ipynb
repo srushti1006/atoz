{
  "nbformat": 4,
  "nbformat_minor": 0,
  "metadata": {
    "colab": {
      "provenance": [],
      "gpuType": "T4"
    },
    "kernelspec": {
      "name": "python3",
      "display_name": "Python 3"
    },
    "language_info": {
      "name": "python"
    },
    "accelerator": "GPU"
  },
  "cells": [
    {
      "cell_type": "code",
      "source": [
        "!pip install git+https://github.com/openai/whisper.git"
      ],
      "metadata": {
        "colab": {
          "base_uri": "https://localhost:8080/"
        },
        "id": "eo2OH60CZgLx",
        "outputId": "ff238001-2a70-4246-c9a3-9f5b572722e1"
      },
      "execution_count": null,
      "outputs": [
        {
          "output_type": "stream",
          "name": "stdout",
          "text": [
            "Collecting git+https://github.com/openai/whisper.git\n",
            "  Cloning https://github.com/openai/whisper.git to /tmp/pip-req-build-6f5t9fte\n",
            "  Running command git clone --filter=blob:none --quiet https://github.com/openai/whisper.git /tmp/pip-req-build-6f5t9fte\n",
            "  Resolved https://github.com/openai/whisper.git to commit 5979f03701209bb035a0a466f14131aeb1116cbb\n",
            "  Installing build dependencies ... \u001b[?25l\u001b[?25hdone\n",
            "  Getting requirements to build wheel ... \u001b[?25l\u001b[?25hdone\n",
            "  Preparing metadata (pyproject.toml) ... \u001b[?25l\u001b[?25hdone\n",
            "Requirement already satisfied: numba in /usr/local/lib/python3.10/dist-packages (from openai-whisper==20240930) (0.60.0)\n",
            "Requirement already satisfied: numpy in /usr/local/lib/python3.10/dist-packages (from openai-whisper==20240930) (1.26.4)\n",
            "Requirement already satisfied: torch in /usr/local/lib/python3.10/dist-packages (from openai-whisper==20240930) (2.5.0+cu121)\n",
            "Requirement already satisfied: tqdm in /usr/local/lib/python3.10/dist-packages (from openai-whisper==20240930) (4.66.5)\n",
            "Requirement already satisfied: more-itertools in /usr/local/lib/python3.10/dist-packages (from openai-whisper==20240930) (10.5.0)\n",
            "Collecting tiktoken (from openai-whisper==20240930)\n",
            "  Downloading tiktoken-0.8.0-cp310-cp310-manylinux_2_17_x86_64.manylinux2014_x86_64.whl.metadata (6.6 kB)\n",
            "Collecting triton>=2.0.0 (from openai-whisper==20240930)\n",
            "  Downloading triton-3.1.0-cp310-cp310-manylinux_2_17_x86_64.manylinux2014_x86_64.whl.metadata (1.3 kB)\n",
            "Requirement already satisfied: filelock in /usr/local/lib/python3.10/dist-packages (from triton>=2.0.0->openai-whisper==20240930) (3.16.1)\n",
            "Requirement already satisfied: llvmlite<0.44,>=0.43.0dev0 in /usr/local/lib/python3.10/dist-packages (from numba->openai-whisper==20240930) (0.43.0)\n",
            "Requirement already satisfied: regex>=2022.1.18 in /usr/local/lib/python3.10/dist-packages (from tiktoken->openai-whisper==20240930) (2024.9.11)\n",
            "Requirement already satisfied: requests>=2.26.0 in /usr/local/lib/python3.10/dist-packages (from tiktoken->openai-whisper==20240930) (2.32.3)\n",
            "Requirement already satisfied: typing-extensions>=4.8.0 in /usr/local/lib/python3.10/dist-packages (from torch->openai-whisper==20240930) (4.12.2)\n",
            "Requirement already satisfied: networkx in /usr/local/lib/python3.10/dist-packages (from torch->openai-whisper==20240930) (3.4.2)\n",
            "Requirement already satisfied: jinja2 in /usr/local/lib/python3.10/dist-packages (from torch->openai-whisper==20240930) (3.1.4)\n",
            "Requirement already satisfied: fsspec in /usr/local/lib/python3.10/dist-packages (from torch->openai-whisper==20240930) (2024.6.1)\n",
            "Requirement already satisfied: sympy==1.13.1 in /usr/local/lib/python3.10/dist-packages (from torch->openai-whisper==20240930) (1.13.1)\n",
            "Requirement already satisfied: mpmath<1.4,>=1.1.0 in /usr/local/lib/python3.10/dist-packages (from sympy==1.13.1->torch->openai-whisper==20240930) (1.3.0)\n",
            "Requirement already satisfied: charset-normalizer<4,>=2 in /usr/local/lib/python3.10/dist-packages (from requests>=2.26.0->tiktoken->openai-whisper==20240930) (3.4.0)\n",
            "Requirement already satisfied: idna<4,>=2.5 in /usr/local/lib/python3.10/dist-packages (from requests>=2.26.0->tiktoken->openai-whisper==20240930) (3.10)\n",
            "Requirement already satisfied: urllib3<3,>=1.21.1 in /usr/local/lib/python3.10/dist-packages (from requests>=2.26.0->tiktoken->openai-whisper==20240930) (2.2.3)\n",
            "Requirement already satisfied: certifi>=2017.4.17 in /usr/local/lib/python3.10/dist-packages (from requests>=2.26.0->tiktoken->openai-whisper==20240930) (2024.8.30)\n",
            "Requirement already satisfied: MarkupSafe>=2.0 in /usr/local/lib/python3.10/dist-packages (from jinja2->torch->openai-whisper==20240930) (3.0.2)\n",
            "Downloading triton-3.1.0-cp310-cp310-manylinux_2_17_x86_64.manylinux2014_x86_64.whl (209.5 MB)\n",
            "\u001b[2K   \u001b[90m━━━━━━━━━━━━━━━━━━━━━━━━━━━━━━━━━━━━━━━━\u001b[0m \u001b[32m209.5/209.5 MB\u001b[0m \u001b[31m5.4 MB/s\u001b[0m eta \u001b[36m0:00:00\u001b[0m\n",
            "\u001b[?25hDownloading tiktoken-0.8.0-cp310-cp310-manylinux_2_17_x86_64.manylinux2014_x86_64.whl (1.2 MB)\n",
            "\u001b[2K   \u001b[90m━━━━━━━━━━━━━━━━━━━━━━━━━━━━━━━━━━━━━━━━\u001b[0m \u001b[32m1.2/1.2 MB\u001b[0m \u001b[31m41.2 MB/s\u001b[0m eta \u001b[36m0:00:00\u001b[0m\n",
            "\u001b[?25hBuilding wheels for collected packages: openai-whisper\n",
            "  Building wheel for openai-whisper (pyproject.toml) ... \u001b[?25l\u001b[?25hdone\n",
            "  Created wheel for openai-whisper: filename=openai_whisper-20240930-py3-none-any.whl size=803559 sha256=dfc12fc652fb0511f98067500e93f9a8c67cb4de62952040ef290f9a0c385b54\n",
            "  Stored in directory: /tmp/pip-ephem-wheel-cache-kwovil0z/wheels/8b/6c/d0/622666868c179f156cf595c8b6f06f88bc5d80c4b31dccaa03\n",
            "Successfully built openai-whisper\n",
            "Installing collected packages: triton, tiktoken, openai-whisper\n",
            "Successfully installed openai-whisper-20240930 tiktoken-0.8.0 triton-3.1.0\n"
          ]
        }
      ]
    },
    {
      "cell_type": "code",
      "execution_count": null,
      "metadata": {
        "colab": {
          "base_uri": "https://localhost:8080/"
        },
        "id": "ACUB7T4LWJ-F",
        "outputId": "66cc60e7-d5aa-4f3a-86be-e0f981944785"
      },
      "outputs": [
        {
          "output_type": "stream",
          "name": "stderr",
          "text": [
            "100%|█████████████████████████████████████| 2.88G/2.88G [00:39<00:00, 78.3MiB/s]\n",
            "/usr/local/lib/python3.10/dist-packages/whisper/__init__.py:150: FutureWarning: You are using `torch.load` with `weights_only=False` (the current default value), which uses the default pickle module implicitly. It is possible to construct malicious pickle data which will execute arbitrary code during unpickling (See https://github.com/pytorch/pytorch/blob/main/SECURITY.md#untrusted-models for more details). In a future release, the default value for `weights_only` will be flipped to `True`. This limits the functions that could be executed during unpickling. Arbitrary objects will no longer be allowed to be loaded via this mode unless they are explicitly allowlisted by the user via `torch.serialization.add_safe_globals`. We recommend you start setting `weights_only=True` for any use case where you don't have full control of the loaded file. Please open an issue on GitHub for any issues related to this experimental feature.\n",
            "  checkpoint = torch.load(fp, map_location=device)\n"
          ]
        },
        {
          "output_type": "stream",
          "name": "stdout",
          "text": [
            "Transcription:\n",
            "  Drop, splash, scratch, clean, repeat. The CAT S42 is a remarkable workhorse. Drop-proof from height, waterproof at depth, and extra-long battery life. With a bright touchscreen that works in the wet and with gloves. And loud, high-quality audio for tough environments. And exceeds U.S. military standard mil-spec A10H. The CAT S42, the essential work phone.\n"
          ]
        }
      ],
      "source": [
        "import whisper\n",
        "\n",
        "# Load the Whisper model\n",
        "model = whisper.load_model(\"large\")  # You can also try \"small\", \"medium\", or \"large\" for higher accuracy\n",
        "\n",
        "# Specify your audio file path (e.g., the uploaded file path)\n",
        "audio_path = \"/content/short.mp3\"  # Replace with your uploaded file's path\n",
        "\n",
        "# Perform transcription\n",
        "result = model.transcribe(audio_path)\n",
        "transcript = result[\"text\"]\n",
        "\n",
        "print(\"Transcription:\\n\", transcript)\n"
      ]
    },
    {
      "cell_type": "code",
      "source": [
        "for segment in result[\"segments\"]:\n",
        "    print(f\"[{segment['start']} - {segment['end']}] {segment['text']}\")"
      ],
      "metadata": {
        "colab": {
          "base_uri": "https://localhost:8080/"
        },
        "id": "VrkEu4MVbmJe",
        "outputId": "53c078fb-4f7b-4f5a-bba4-6521c89fd3e5"
      },
      "execution_count": null,
      "outputs": [
        {
          "output_type": "stream",
          "name": "stdout",
          "text": [
            "[0.0 - 7.92]  Drop, splash, scratch, clean, repeat. The CAT S42 is a remarkable workhorse.\n",
            "[7.92 - 17.52]  Drop-proof from height, waterproof at depth, and extra-long battery life.\n",
            "[17.52 - 24.52]  With a bright touchscreen that works in the wet and with gloves.\n",
            "[24.52 - 29.52]  And loud, high-quality audio for tough environments.\n",
            "[29.52 - 33.519999999999996]  And exceeds U.S. military standard mil-spec A10H.\n",
            "[38.519999999999996 - 42.519999999999996]  The CAT S42, the essential work phone.\n"
          ]
        }
      ]
    },
    {
      "cell_type": "code",
      "source": [
        "audio_path = \"/content/herba.mp3\"  # Replace with your uploaded file's path\n",
        "\n",
        "# Perform transcription\n",
        "result = model.transcribe(audio_path)\n",
        "transcript = result[\"text\"]\n",
        "\n",
        "for segment in result[\"segments\"]:\n",
        "    print(f\"[{segment['start']} - {segment['end']}] {segment['text']}\")"
      ],
      "metadata": {
        "colab": {
          "base_uri": "https://localhost:8080/"
        },
        "id": "2e89ZV9tbmvu",
        "outputId": "2dd9aad4-01c6-41b0-9f73-ad371e17ab97"
      },
      "execution_count": null,
      "outputs": [
        {
          "output_type": "stream",
          "name": "stdout",
          "text": [
            "Transcription:\n",
            "  हेलो दोस्तों यह देख रहे हो आप हर्बा लाइफ नूट्रीशन तो यह हर्बा लाइफ के जितने भी प्रोडक्ट आते हैं यह वैसे तो आपको पता होना चाहिए कि यह मेरे प्रोडक्ट्स होते ठीक है मल्टी लेवल मार्केटिंग है यह भी यह कंपनी भी जैसे यह भी हाल फिलाल में एमवेब पकड़ी गई है कि वह क्यों यह रीजन क्या होता है कि वह पकड़ी जाती है किसले क्योंकि जो इनकी रेट देख रहे आप यह साथ सुचों माली सी इतने की होती नहीं हालांकि यह जो इनका प्रोडक्ट है जबा लाइफ का यह फ्रेस नाम से यही प्रोडक्ट है जो कि ठीक है इनका काफी अच्छा है यह प्रॉडक्ट बाकि यह जो इनके प्रोटीन वगैरह आते हैं यह इतने कोई कारगर नहीं है ना यह इतने कोई अच्छे हैं क्योंकि यार इनकी प्राइस तो आप 233 हजार तक क्या आते हैं और यह लिखा रहता है चार सौ ग्राम यह सब ठीक है चलो यार यह तो हर कोई प्रोटीन कंपनी भी होती है वह भी यूप करती है लेकिन मैं आपको सजेस्ट करूंगा सिर्फ आप टी ले सकते क्योंकि वह आटे लोगों के लिए अच्छी है ए फ्रेस नाम से जो यह टी आती है तो यहस्ट यह शुरू एंस वगरा के लिए काफी अच्छी है अगर लेट नाइट तक स्ट्रडी वगरा करते हुआ तो यह लेमन फ्लेवर में फ्रेस ले सकते हो यह पाना सो रुपए में मिल जाती है आपको ऑनलाइन या फिर आपके स्टोर से भी ले सकते हैं\n",
            "[0.0 - 5.32]  हेलो दोस्तों यह देख रहे हो आप हर्बा लाइफ नूट्रीशन तो यह हर्बा लाइफ के जितने भी प्रोडक्ट आते हैं यह वैसे तो\n",
            "[5.32 - 11.040000000000001]  आपको पता होना चाहिए कि यह मेरे प्रोडक्ट्स होते ठीक है मल्टी लेवल मार्केटिंग है यह भी यह कंपनी भी जैसे\n",
            "[11.04 - 17.04]  यह भी हाल फिलाल में एमवेब पकड़ी गई है कि वह क्यों यह रीजन क्या होता है कि वह पकड़ी जाती है किसले\n",
            "[17.04 - 22.92]  क्योंकि जो इनकी रेट देख रहे आप यह साथ सुचों माली सी इतने की होती नहीं हालांकि यह जो इनका प्रोडक्ट है\n",
            "[22.92 - 29.28]  जबा लाइफ का यह फ्रेस नाम से यही प्रोडक्ट है जो कि ठीक है इनका काफी अच्छा है यह प्रॉडक्ट बाकि यह जो\n",
            "[29.28 - 35.040000000000006]  इनके प्रोटीन वगैरह आते हैं यह इतने कोई कारगर नहीं है ना यह इतने कोई अच्छे हैं क्योंकि यार इनकी प्राइस\n",
            "[35.04 - 41.22]  तो आप 233 हजार तक क्या आते हैं और यह लिखा रहता है चार सौ ग्राम यह सब ठीक है चलो यार यह तो हर कोई\n",
            "[41.22 - 46.32]  प्रोटीन कंपनी भी होती है वह भी यूप करती है लेकिन मैं आपको सजेस्ट करूंगा सिर्फ आप टी ले सकते क्योंकि वह\n",
            "[46.32 - 51.8]  आटे लोगों के लिए अच्छी है ए फ्रेस नाम से जो यह टी आती है तो यहस्ट यह शुरू एंस वगरा के लिए\n",
            "[51.8 - 56.88]  काफी अच्छी है अगर लेट नाइट तक स्ट्रडी वगरा करते हुआ तो यह लेमन फ्लेवर में फ्रेस ले सकते हो यह\n",
            "[56.88 - 60.18]  पाना सो रुपए में मिल जाती है आपको ऑनलाइन या फिर आपके स्टोर से भी ले सकते हैं\n"
          ]
        }
      ]
    },
    {
      "cell_type": "code",
      "source": [
        "result = model.transcribe(audio_path, task=\"translate\")\n",
        "translated_text = result[\"text\"]\n",
        "\n",
        "print(\"\\nDetailed Translation with Timestamps:\")\n",
        "for segment in result[\"segments\"]:\n",
        "    print(f\"[{segment['start']} - {segment['end']}] {segment['text']}\")\n"
      ],
      "metadata": {
        "colab": {
          "base_uri": "https://localhost:8080/"
        },
        "id": "B6030TdCcWlT",
        "outputId": "143bb479-e0c9-4de6-e32b-7a8a6576e3e4"
      },
      "execution_count": null,
      "outputs": [
        {
          "output_type": "stream",
          "name": "stdout",
          "text": [
            "\n",
            "Detailed Translation with Timestamps:\n",
            "[0.0 - 2.0]  Herbalife Nutrition\n",
            "[2.0 - 8.0]  Herbalife products are MLM products\n",
            "[8.0 - 10.0]  This is multi level marketing\n",
            "[10.0 - 14.0]  This company is also in M wave\n",
            "[14.0 - 16.0]  Why is it in M wave?\n",
            "[16.0 - 18.0]  Because of their rates\n",
            "[18.0 - 20.0]  744 is not that much\n",
            "[20.0 - 22.0]  However, this is their product\n",
            "[22.0 - 24.0]  Herbalife A fresh\n",
            "[24.0 - 26.0]  This is the same product\n",
            "[26.0 - 28.0]  Which is good\n",
            "[28.0 - 30.0]  The rest of their protein products\n",
            "[30.0 - 32.0]  are not that good\n",
            "[32.0 - 34.0]  Because\n",
            "[34.0 - 36.0]  their price is around 2000-3000\n",
            "[36.0 - 38.0]  and it is written 400g\n",
            "[38.0 - 40.0]  This is okay\n",
            "[40.0 - 42.0]  This is also a protein company\n",
            "[42.0 - 44.0]  But I will suggest you\n",
            "[44.0 - 46.0]  You can only take tea\n",
            "[46.0 - 48.0]  Because it is good for fat people\n",
            "[48.0 - 50.0]  This tea is called A fresh\n",
            "[50.0 - 52.0]  This is good for students\n",
            "[52.0 - 54.0]  If you study till late night\n",
            "[54.0 - 56.0]  You can take A fresh in lemon flavor\n",
            "[56.0 - 58.0]  This is 500 rs\n",
            "[58.0 - 60.0]  You can buy it online\n",
            "[60.0 - 62.0]  Or from any store\n"
          ]
        }
      ]
    }
  ]
}