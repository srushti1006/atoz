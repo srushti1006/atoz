{
  "cells": [
    {
      "cell_type": "code",
      "source": [
        "# !pip install torch --upgrade  # Upgrade to the latest PyTorch version\n",
        "# !pip install transformers==4.30.2\n",
        "# !pip install autoawq\n",
        "\n",
        "from transformers import AutoTokenizer, AutoModelForCausalLM\n",
        "import torch\n",
        "\n",
        "# Set device to GPU if available, otherwise CPU\n",
        "device = torch.device(\"cuda\" if torch.cuda.is_available() else \"cpu\")\n",
        "\n",
        "# Load the tokenizer and model (quantized LLaMA-2 4-bit model)\n",
        "tokenizer = AutoTokenizer.from_pretrained(\"jamesdborin/llama2-7b-chat-4bit-AWQ\")\n",
        "model = AutoModelForCausalLM.from_pretrained(\"jamesdborin/llama2-7b-chat-4bit-AWQ\").to(device)\n",
        "\n",
        "# Data for product description\n",
        "extracted_data = {\n",
        "    'image_keywords': \"smart fitness tracker, heart rate monitor, wearable technology\",\n",
        "    'video_descriptions': \"Demonstration of fitness tracker usage, highlighting heart rate and sleep tracking features.\",\n",
        "    'audio_text': \"Narration explaining the benefits of personalized fitness goals and health monitoring.\",\n",
        "    'caption_summary': \"Stay fit with our new Smart Fitness Tracker! Monitor your heart rate, track your sleep, and achieve your fitness goals easily.\",\n",
        "    'comment_summary': \"Waterproof, sleek design, includes step counter.\"\n",
        "}\n",
        "\n",
        "input_prompt = f\"\"\"\n",
        "    Product: Smart Fitness Tracker\n",
        "    Image Keywords: {extracted_data['image_keywords']}\n",
        "    Video Descriptions: {extracted_data['video_descriptions']}\n",
        "    Audio Text: {extracted_data['audio_text']}\n",
        "    Caption Summary: {extracted_data['caption_summary']}\n",
        "    Comment Insights: {extracted_data['comment_summary']}\n",
        "\n",
        "    Generate a detailed product listing with title, description, features, and specifications:\n",
        "\"\"\"\n",
        "\n",
        "# Tokenize and prepare the input text\n",
        "input_ids = tokenizer.encode(input_prompt, return_tensors=\"pt\").to(device)\n",
        "\n",
        "# Generate the product listing\n",
        "with torch.no_grad():\n",
        "    output = model.generate(input_ids, max_length=500, num_return_sequences=1, pad_token_id=tokenizer.pad_token_id)\n",
        "    generated_text = tokenizer.decode(output[0], skip_special_tokens=True)\n",
        "\n",
        "# Print the generated product listing\n",
        "print(generated_text)"
      ],
      "metadata": {
        "colab": {
          "base_uri": "https://localhost:8080/"
        },
        "id": "FZsGQRaq3gXo",
        "outputId": "05104622-26be-4e73-8085-fdb8df012cd8"
      },
      "execution_count": null,
      "outputs": [
        {
          "output_type": "stream",
          "name": "stderr",
          "text": [
            "`low_cpu_mem_usage` was None, now default to True since model is quantized.\n",
            "The attention mask and the pad token id were not set. As a consequence, you may observe unexpected behavior. Please pass your input's `attention_mask` to obtain reliable results.\n",
            "Setting `pad_token_id` to `eos_token_id`:None for open-end generation.\n"
          ]
        },
        {
          "output_type": "stream",
          "name": "stdout",
          "text": [
            "\n",
            "    Product: Smart Fitness Tracker\n",
            "    Image Keywords: smart fitness tracker, heart rate monitor, wearable technology\n",
            "    Video Descriptions: Demonstration of fitness tracker usage, highlighting heart rate and sleep tracking features.\n",
            "    Audio Text: Narration explaining the benefits of personalized fitness goals and health monitoring.\n",
            "    Caption Summary: Stay fit with our new Smart Fitness Tracker! Monitor your heart rate, track your sleep, and achieve your fitness goals easily.\n",
            "    Comment Insights: Waterproof, sleek design, includes step counter.\n",
            "\n",
            "    Generate a detailed product listing with title, description, features, and specifications:\n",
            "    Title: Smart Fitness Tracker - Stay Fit with Personalized Goals and Health Monitoring\n",
            "    Description: Get fit and healthy with our innovative Smart Fitness Tracker. Monitor your heart rate, track your sleep, and set personalized fitness goals. With its waterproof design and sleek look, this fitness tracker is perfect for any fitness enthusiast.\n",
            "    Features:\n",
            "    1. Heart Rate Monitoring: Track your heart rate in real-time, anytime, anywhere.\n",
            "    2. Sleep Tracking: Monitor your sleep patterns and get insights into your sleep quality.\n",
            "    3. Personalized Goals: Set and achieve fitness goals based on your progress and preferences.\n",
            "    4. Step Counter: Track your daily steps and stay motivated to hit your step goals.\n",
            "    5. Waterproof Design: Take your tracker with you anywhere, even in the pool or shower.\n",
            "    Specifications:\n",
            "    1. Display: OLED Display with 1.2 inches diameter\n",
            "    2. Battery Life: Up to 5 days on a single charge\n",
            "    3. Connectivity: Bluetooth 5.0 connectivity for seamless syncing with your smartphone.\n",
            "    4. Sensor: Accelerometer, Gyroscope, and Optical Heart Rate Sensor.\n",
            "    5. Dimensions: 38 x 38 x 10mm.\n",
            "\n",
            "\n",
            "\n",
            "\n",
            "\n",
            "\n",
            "\n",
            "\n",
            "\n",
            "\n",
            "\n",
            "\n",
            "\n",
            "\n",
            "\n",
            "\n",
            "\n",
            "\n",
            "\n",
            "\n",
            "\n",
            "\n",
            "\n",
            "\n",
            "\n"
          ]
        }
      ]
    }
  ],
  "metadata": {
    "colab": {
      "provenance": [],
      "gpuType": "T4"
    },
    "kernelspec": {
      "display_name": "Python 3",
      "name": "python3"
    },
    "language_info": {
      "name": "python"
    },
    "accelerator": "GPU"
  },
  "nbformat": 4,
  "nbformat_minor": 0
}